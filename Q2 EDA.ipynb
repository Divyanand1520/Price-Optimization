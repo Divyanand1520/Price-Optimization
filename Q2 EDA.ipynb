{
 "cells": [
  {
   "cell_type": "code",
   "execution_count": 8,
   "id": "66e111cc-400e-4bf2-990c-28fe49dfe169",
   "metadata": {
    "execution": {
     "iopub.execute_input": "2025-09-13T06:58:22.513052Z",
     "iopub.status.busy": "2025-09-13T06:58:22.512789Z",
     "iopub.status.idle": "2025-09-13T06:58:22.516177Z",
     "shell.execute_reply": "2025-09-13T06:58:22.515247Z",
     "shell.execute_reply.started": "2025-09-13T06:58:22.513031Z"
    }
   },
   "outputs": [],
   "source": [
    "import pandas as pd"
   ]
  },
  {
   "cell_type": "code",
   "execution_count": 9,
   "id": "df9dfc4c-3df8-4994-be94-9dca83c7e966",
   "metadata": {
    "execution": {
     "iopub.execute_input": "2025-09-13T06:58:23.174670Z",
     "iopub.status.busy": "2025-09-13T06:58:23.174410Z",
     "iopub.status.idle": "2025-09-13T06:58:23.180292Z",
     "shell.execute_reply": "2025-09-13T06:58:23.179595Z",
     "shell.execute_reply.started": "2025-09-13T06:58:23.174650Z"
    }
   },
   "outputs": [],
   "source": [
    "df_tide = pd.read_csv(\"Sales Data.csv\")"
   ]
  },
  {
   "cell_type": "code",
   "execution_count": 10,
   "id": "fc4b2422-6e7c-4abb-8370-424aeece7d4b",
   "metadata": {
    "execution": {
     "iopub.execute_input": "2025-09-13T06:58:23.820248Z",
     "iopub.status.busy": "2025-09-13T06:58:23.819991Z",
     "iopub.status.idle": "2025-09-13T06:58:23.830284Z",
     "shell.execute_reply": "2025-09-13T06:58:23.829567Z",
     "shell.execute_reply.started": "2025-09-13T06:58:23.820229Z"
    }
   },
   "outputs": [
    {
     "data": {
      "text/html": [
       "<div>\n",
       "<style scoped>\n",
       "    .dataframe tbody tr th:only-of-type {\n",
       "        vertical-align: middle;\n",
       "    }\n",
       "\n",
       "    .dataframe tbody tr th {\n",
       "        vertical-align: top;\n",
       "    }\n",
       "\n",
       "    .dataframe thead th {\n",
       "        text-align: right;\n",
       "    }\n",
       "</style>\n",
       "<table border=\"1\" class=\"dataframe\">\n",
       "  <thead>\n",
       "    <tr style=\"text-align: right;\">\n",
       "      <th></th>\n",
       "      <th>TransactionDate</th>\n",
       "      <th>MRP</th>\n",
       "      <th>NoPromoPrice</th>\n",
       "      <th>SellingPrice</th>\n",
       "      <th>UnitsSold</th>\n",
       "    </tr>\n",
       "  </thead>\n",
       "  <tbody>\n",
       "    <tr>\n",
       "      <th>0</th>\n",
       "      <td>01-01-2021</td>\n",
       "      <td>99.0</td>\n",
       "      <td>97.95</td>\n",
       "      <td>97.95</td>\n",
       "      <td>12</td>\n",
       "    </tr>\n",
       "    <tr>\n",
       "      <th>1</th>\n",
       "      <td>02-01-2021</td>\n",
       "      <td>99.0</td>\n",
       "      <td>85.09</td>\n",
       "      <td>85.09</td>\n",
       "      <td>10</td>\n",
       "    </tr>\n",
       "    <tr>\n",
       "      <th>2</th>\n",
       "      <td>03-01-2021</td>\n",
       "      <td>99.0</td>\n",
       "      <td>92.93</td>\n",
       "      <td>92.93</td>\n",
       "      <td>4</td>\n",
       "    </tr>\n",
       "    <tr>\n",
       "      <th>3</th>\n",
       "      <td>04-01-2021</td>\n",
       "      <td>99.0</td>\n",
       "      <td>90.24</td>\n",
       "      <td>90.24</td>\n",
       "      <td>7</td>\n",
       "    </tr>\n",
       "    <tr>\n",
       "      <th>4</th>\n",
       "      <td>05-01-2021</td>\n",
       "      <td>99.0</td>\n",
       "      <td>92.67</td>\n",
       "      <td>92.67</td>\n",
       "      <td>12</td>\n",
       "    </tr>\n",
       "    <tr>\n",
       "      <th>5</th>\n",
       "      <td>06-01-2021</td>\n",
       "      <td>99.0</td>\n",
       "      <td>77.19</td>\n",
       "      <td>77.19</td>\n",
       "      <td>3</td>\n",
       "    </tr>\n",
       "    <tr>\n",
       "      <th>6</th>\n",
       "      <td>07-01-2021</td>\n",
       "      <td>99.0</td>\n",
       "      <td>93.59</td>\n",
       "      <td>93.59</td>\n",
       "      <td>3</td>\n",
       "    </tr>\n",
       "    <tr>\n",
       "      <th>7</th>\n",
       "      <td>08-01-2021</td>\n",
       "      <td>99.0</td>\n",
       "      <td>98.16</td>\n",
       "      <td>98.16</td>\n",
       "      <td>15</td>\n",
       "    </tr>\n",
       "    <tr>\n",
       "      <th>8</th>\n",
       "      <td>09-01-2021</td>\n",
       "      <td>99.0</td>\n",
       "      <td>91.03</td>\n",
       "      <td>91.03</td>\n",
       "      <td>14</td>\n",
       "    </tr>\n",
       "    <tr>\n",
       "      <th>9</th>\n",
       "      <td>10-01-2021</td>\n",
       "      <td>99.0</td>\n",
       "      <td>83.81</td>\n",
       "      <td>83.81</td>\n",
       "      <td>7</td>\n",
       "    </tr>\n",
       "  </tbody>\n",
       "</table>\n",
       "</div>"
      ],
      "text/plain": [
       "  TransactionDate   MRP  NoPromoPrice  SellingPrice  UnitsSold\n",
       "0      01-01-2021  99.0         97.95         97.95         12\n",
       "1      02-01-2021  99.0         85.09         85.09         10\n",
       "2      03-01-2021  99.0         92.93         92.93          4\n",
       "3      04-01-2021  99.0         90.24         90.24          7\n",
       "4      05-01-2021  99.0         92.67         92.67         12\n",
       "5      06-01-2021  99.0         77.19         77.19          3\n",
       "6      07-01-2021  99.0         93.59         93.59          3\n",
       "7      08-01-2021  99.0         98.16         98.16         15\n",
       "8      09-01-2021  99.0         91.03         91.03         14\n",
       "9      10-01-2021  99.0         83.81         83.81          7"
      ]
     },
     "execution_count": 10,
     "metadata": {},
     "output_type": "execute_result"
    }
   ],
   "source": [
    "df_tide.head(10)"
   ]
  },
  {
   "cell_type": "code",
   "execution_count": 11,
   "id": "e7b7f3f4-8655-4a67-aec2-ce940958cddf",
   "metadata": {
    "execution": {
     "iopub.execute_input": "2025-09-13T06:58:24.635016Z",
     "iopub.status.busy": "2025-09-13T06:58:24.634733Z",
     "iopub.status.idle": "2025-09-13T06:58:24.642828Z",
     "shell.execute_reply": "2025-09-13T06:58:24.642152Z",
     "shell.execute_reply.started": "2025-09-13T06:58:24.634992Z"
    }
   },
   "outputs": [],
   "source": [
    "df_comp = pd.read_csv(\"Competitor Pricing Data.csv\")"
   ]
  },
  {
   "cell_type": "code",
   "execution_count": 12,
   "id": "7ca0d346-0c84-4f3a-bf9f-5b00bfd20490",
   "metadata": {
    "execution": {
     "iopub.execute_input": "2025-09-13T06:58:25.458049Z",
     "iopub.status.busy": "2025-09-13T06:58:25.457794Z",
     "iopub.status.idle": "2025-09-13T06:58:25.468114Z",
     "shell.execute_reply": "2025-09-13T06:58:25.467151Z",
     "shell.execute_reply.started": "2025-09-13T06:58:25.458030Z"
    }
   },
   "outputs": [
    {
     "data": {
      "text/html": [
       "<div>\n",
       "<style scoped>\n",
       "    .dataframe tbody tr th:only-of-type {\n",
       "        vertical-align: middle;\n",
       "    }\n",
       "\n",
       "    .dataframe tbody tr th {\n",
       "        vertical-align: top;\n",
       "    }\n",
       "\n",
       "    .dataframe thead th {\n",
       "        text-align: right;\n",
       "    }\n",
       "</style>\n",
       "<table border=\"1\" class=\"dataframe\">\n",
       "  <thead>\n",
       "    <tr style=\"text-align: right;\">\n",
       "      <th></th>\n",
       "      <th>Date</th>\n",
       "      <th>Brand</th>\n",
       "      <th>MRP</th>\n",
       "      <th>DiscountRate</th>\n",
       "      <th>BasePrice</th>\n",
       "      <th>FinalPrice</th>\n",
       "    </tr>\n",
       "  </thead>\n",
       "  <tbody>\n",
       "    <tr>\n",
       "      <th>0</th>\n",
       "      <td>01-01-2021</td>\n",
       "      <td>Nirma</td>\n",
       "      <td>90.0</td>\n",
       "      <td>0.00</td>\n",
       "      <td>84.67</td>\n",
       "      <td>84.67</td>\n",
       "    </tr>\n",
       "    <tr>\n",
       "      <th>1</th>\n",
       "      <td>01-01-2021</td>\n",
       "      <td>Surf Excel</td>\n",
       "      <td>110.0</td>\n",
       "      <td>0.00</td>\n",
       "      <td>107.24</td>\n",
       "      <td>107.24</td>\n",
       "    </tr>\n",
       "    <tr>\n",
       "      <th>2</th>\n",
       "      <td>02-01-2021</td>\n",
       "      <td>Nirma</td>\n",
       "      <td>90.0</td>\n",
       "      <td>0.00</td>\n",
       "      <td>81.16</td>\n",
       "      <td>81.16</td>\n",
       "    </tr>\n",
       "    <tr>\n",
       "      <th>3</th>\n",
       "      <td>02-01-2021</td>\n",
       "      <td>Surf Excel</td>\n",
       "      <td>110.0</td>\n",
       "      <td>0.07</td>\n",
       "      <td>107.90</td>\n",
       "      <td>100.35</td>\n",
       "    </tr>\n",
       "    <tr>\n",
       "      <th>4</th>\n",
       "      <td>03-01-2021</td>\n",
       "      <td>Nirma</td>\n",
       "      <td>90.0</td>\n",
       "      <td>0.00</td>\n",
       "      <td>79.33</td>\n",
       "      <td>79.33</td>\n",
       "    </tr>\n",
       "  </tbody>\n",
       "</table>\n",
       "</div>"
      ],
      "text/plain": [
       "         Date       Brand    MRP  DiscountRate  BasePrice  FinalPrice\n",
       "0  01-01-2021       Nirma   90.0          0.00      84.67       84.67\n",
       "1  01-01-2021  Surf Excel  110.0          0.00     107.24      107.24\n",
       "2  02-01-2021       Nirma   90.0          0.00      81.16       81.16\n",
       "3  02-01-2021  Surf Excel  110.0          0.07     107.90      100.35\n",
       "4  03-01-2021       Nirma   90.0          0.00      79.33       79.33"
      ]
     },
     "execution_count": 12,
     "metadata": {},
     "output_type": "execute_result"
    }
   ],
   "source": [
    "df_comp.head()"
   ]
  },
  {
   "cell_type": "code",
   "execution_count": 15,
   "id": "939aecb7-02b8-4d2a-ba43-1bc5bed95eea",
   "metadata": {
    "execution": {
     "iopub.execute_input": "2025-09-13T07:08:48.613040Z",
     "iopub.status.busy": "2025-09-13T07:08:48.612758Z",
     "iopub.status.idle": "2025-09-13T07:08:49.037924Z",
     "shell.execute_reply": "2025-09-13T07:08:49.037003Z",
     "shell.execute_reply.started": "2025-09-13T07:08:48.613018Z"
    }
   },
   "outputs": [
    {
     "name": "stdout",
     "output_type": "stream",
     "text": [
      "Q3 – Competitor Influence on Tide’s Sales Dips\n",
      "\n",
      "Nirma price gap p-value: 0.6487\n",
      "Surf Excel price gap p-value: 0.7243\n",
      "\n",
      "Conclusion: Nirma has a stronger influence on Tide’s sales dips.\n",
      "\n",
      "Observation:\n",
      "Competitor prices are generally lower on dip days compared to non-dip days,\n",
      "and a larger price gap in favor of the competitor correlates with sharper declines in Tide’s sales.\n"
     ]
    },
    {
     "data": {
      "image/png": "[encoded data removed]",
      "text/plain": [
       "<Figure size 1400x600 with 2 Axes>"
      ]
     },
     "metadata": {},
     "output_type": "display_data"
    }
   ],
   "source": [
    "import pandas as pd\n",
    "import numpy as np\n",
    "from scipy.stats import mannwhitneyu\n",
    "import matplotlib.pyplot as plt\n",
    "import seaborn as sns\n",
    "\n",
    "\n",
    "df = pd.read_csv('Competitor Pricing Data.csv')\n",
    "df3 = pd.read_csv(\"Sales Data.csv\")\n",
    "\n",
    "# Calculate daily % change in units sold to find dip days\n",
    "df3['UnitsSold_pct_change'] = df3['UnitsSold'].pct_change()\n",
    "df3['is_dip'] = df3['UnitsSold_pct_change'] < -0.10 \n",
    "\n",
    "# Separate competitors\n",
    "nirma = df[df['Brand'] == 'Nirma'][['Date', 'FinalPrice']].rename(columns={'FinalPrice': 'NirmaPrice'})\n",
    "surf_excel = df[df['Brand'] == 'Surf Excel'][['Date', 'FinalPrice']].rename(columns={'FinalPrice': 'SurfExcelPrice'})\n",
    "\n",
    "# --- Step 3: Merge competitor data with sales data ---\n",
    "\n",
    "merged = df3.merge(nirma, left_on='TransactionDate', right_on='Date', how='left')\n",
    "merged = merged.merge(surf_excel, left_on='TransactionDate', right_on='Date', how='left')\n",
    "\n",
    "# Drop redundant columns\n",
    "merged = merged.drop(columns=['Date_x', 'Date_y'])\n",
    "\n",
    "# --- Step 4: Calculate price gaps ---\n",
    "\n",
    "merged['NirmaGap'] = merged['NirmaPrice'] - merged['SellingPrice']\n",
    "merged['SurfExcelGap'] = merged['SurfExcelPrice'] - merged['SellingPrice']\n",
    "\n",
    "# --- Step 5: Separate dip and non-dip days ---\n",
    "\n",
    "dip_days = merged[merged['is_dip'] == True]\n",
    "non_dip_days = merged[merged['is_dip'] == False]\n",
    "\n",
    "# --- Step 6: Perform Mann-Whitney U Test ---\n",
    "\n",
    "nirma_test = mannwhitneyu(dip_days['NirmaGap'].dropna(), non_dip_days['NirmaGap'].dropna(), alternative='two-sided')\n",
    "surf_test = mannwhitneyu(dip_days['SurfExcelGap'].dropna(), non_dip_days['SurfExcelGap'].dropna(), alternative='two-sided')\n",
    "\n",
    "# --- Step 7: Print the results ---\n",
    "\n",
    "print(\"Q3 – Competitor Influence on Tide’s Sales Dips\\n\")\n",
    "print(f\"Nirma price gap p-value: {nirma_test.pvalue:.4f}\")\n",
    "print(f\"Surf Excel price gap p-value: {surf_test.pvalue:.4f}\\n\")\n",
    "\n",
    "if nirma_test.pvalue < surf_test.pvalue:\n",
    " print(\"Conclusion: Nirma has a stronger influence on Tide’s sales dips.\")\n",
    "else:\n",
    " print(\"Conclusion: Surf Excel has a stronger influence on Tide’s sales dips.\")\n",
    "\n",
    "print(\"\\nObservation:\")\n",
    "print(\"Competitor prices are generally lower on dip days compared to non-dip days,\")\n",
    "print(\"and a larger price gap in favor of the competitor correlates with sharper declines in Tide’s sales.\")\n",
    "\n",
    "# --- Step 8: Visualize the findings ---\n",
    "\n",
    "plt.figure(figsize=(14,6))\n",
    "\n",
    "plt.subplot(1, 2, 1)\n",
    "sns.boxplot(x='is_dip', y='NirmaGap', data=merged)\n",
    "plt.title(\"Nirma Price Gap on Dip vs Non-Dip Days\")\n",
    "plt.xlabel(\"Sales Dip (True/False)\")\n",
    "plt.ylabel(\"Price Gap (Nirma - Tide)\")\n",
    "\n",
    "plt.subplot(1, 2, 2)\n",
    "sns.boxplot(x='is_dip', y='SurfExcelGap', data=merged)\n",
    "plt.title(\"Surf Excel Price Gap on Dip vs Non-Dip Days\")\n",
    "plt.xlabel(\"Sales Dip (True/False)\")\n",
    "plt.ylabel(\"Price Gap (Surf Excel - Tide)\")\n",
    "\n",
    "plt.tight_layout()\n",
    "plt.show()"
   ]
  },
  {
   "cell_type": "code",
   "execution_count": 14,
   "id": "f56c5263-2167-4655-8fb1-8511105e14b4",
   "metadata": {
    "execution": {
     "iopub.execute_input": "2025-09-13T06:59:12.606813Z",
     "iopub.status.busy": "2025-09-13T06:59:12.606525Z",
     "iopub.status.idle": "2025-09-13T06:59:12.934095Z",
     "shell.execute_reply": "2025-09-13T06:59:12.933233Z",
     "shell.execute_reply.started": "2025-09-13T06:59:12.606791Z"
    }
   },
   "outputs": [
    {
     "name": "stdout",
     "output_type": "stream",
     "text": [
      "Nirma - Mann-Whitney U Test: stat=153394.5, p-value=0.3923\n",
      "Surf Excel - Mann-Whitney U Test: stat=146722.5, p-value=0.6719\n",
      "PriceGap_Nirma - Spearman correlation with UnitsSold: corr=0.0127, p-value=0.6735\n",
      "PriceGap_SurfExcel - Spearman correlation with UnitsSold: corr=-0.0085, p-value=0.7785\n"
     ]
    },
    {
     "data": {
      "image/png": "[encoded data removed]",
      "text/plain": [
       "<Figure size 600x400 with 1 Axes>"
      ]
     },
     "metadata": {},
     "output_type": "display_data"
    },
    {
     "data": {
      "image/png": "[encoded data removed]",
      "text/plain": [
       "<Figure size 600x400 with 1 Axes>"
      ]
     },
     "metadata": {},
     "output_type": "display_data"
    }
   ],
   "source": [
    "import pandas as pd\n",
    "import numpy as np\n",
    "import matplotlib.pyplot as plt\n",
    "from scipy.stats import mannwhitneyu, spearmanr\n",
    "\n",
    "# ---------------------------------------------\n",
    "# 1. Load datasets\n",
    "# ---------------------------------------------\n",
    "# df_tide = pd.read_csv(\"tide_sales_data.csv\")\n",
    "# df_comp = pd.read_csv(\"competitor_pricing_data.csv\")\n",
    "# Convert Tide dates\n",
    "df_tide['TransactionDate'] = pd.to_datetime(df_tide['TransactionDate'], dayfirst=True)\n",
    "\n",
    "# Convert Competitor dates\n",
    "df_comp['Date'] = pd.to_datetime(df_comp['Date'], dayfirst=True)\n",
    "\n",
    "# Ensure date columns are datetime\n",
    "df_tide['TransactionDate'] = pd.to_datetime(df_tide['TransactionDate'])\n",
    "df_comp['Date'] = pd.to_datetime(df_comp['Date'])\n",
    "\n",
    "# ---------------------------------------------\n",
    "# 2. Compute derived metrics\n",
    "# ---------------------------------------------\n",
    "# Tide discount % (optional)\n",
    "df_tide['DiscountPct'] = ((df_tide['MRP'] - df_tide['SellingPrice']) / df_tide['MRP']) * 100\n",
    "\n",
    "# Tide revenue\n",
    "df_tide['Revenue'] = df_tide['UnitsSold'] * df_tide['SellingPrice']\n",
    "\n",
    "# ---------------------------------------------\n",
    "# 3. Merge Tide with competitor data\n",
    "# ---------------------------------------------\n",
    "# Filter competitor data for Nirma and Surf Excel\n",
    "df_comp_filtered = df_comp[df_comp['Brand'].isin(['Nirma', 'Surf Excel'])]\n",
    "\n",
    "# Pivot to get one column per competitor's FinalPrice per day\n",
    "df_comp_pivot = df_comp_filtered.pivot_table(\n",
    "    index='Date', \n",
    "    columns='Brand', \n",
    "    values='FinalPrice'\n",
    ").reset_index()\n",
    "\n",
    "# Merge with Tide data\n",
    "df_merged = pd.merge(df_tide, df_comp_pivot, left_on='TransactionDate', right_on='Date', how='left')\n",
    "\n",
    "# Compute price gaps\n",
    "df_merged['PriceGap_Nirma'] = df_merged['SellingPrice'] - df_merged['Nirma']\n",
    "df_merged['PriceGap_SurfExcel'] = df_merged['SellingPrice'] - df_merged['Surf Excel']\n",
    "\n",
    "# ---------------------------------------------\n",
    "# 4. Identify Tide sales dips\n",
    "# ---------------------------------------------\n",
    "# Define sales dip as below rolling mean (e.g., 7-day rolling average)\n",
    "df_merged['RollingMean'] = df_merged['UnitsSold'].rolling(window=7, min_periods=1).mean()\n",
    "df_merged['SalesDip'] = np.where(df_merged['UnitsSold'] < df_merged['RollingMean'], 1, 0)\n",
    "\n",
    "# ---------------------------------------------\n",
    "# 5. Statistical Testing (Non-parametric)\n",
    "# ---------------------------------------------\n",
    "# Compare competitor prices on dip vs non-dip days using Mann-Whitney U test\n",
    "for brand in ['Nirma', 'Surf Excel']:\n",
    "    dip_prices = df_merged[df_merged['SalesDip'] == 1][brand].dropna()\n",
    "    non_dip_prices = df_merged[df_merged['SalesDip'] == 0][brand].dropna()\n",
    "    stat, p_value = mannwhitneyu(dip_prices, non_dip_prices, alternative='two-sided')\n",
    "    print(f\"{brand} - Mann-Whitney U Test: stat={stat}, p-value={p_value:.4f}\")\n",
    "\n",
    "# ---------------------------------------------\n",
    "# 6. Correlation analysis\n",
    "# ---------------------------------------------\n",
    "for gap_col in ['PriceGap_Nirma', 'PriceGap_SurfExcel']:\n",
    "    corr, p_value = spearmanr(df_merged[gap_col], df_merged['UnitsSold'], nan_policy='omit')\n",
    "    print(f\"{gap_col} - Spearman correlation with UnitsSold: corr={corr:.4f}, p-value={p_value:.4f}\")\n",
    "\n",
    "# ---------------------------------------------\n",
    "# 7. Price gap analysis - visualizing dips\n",
    "# ---------------------------------------------\n",
    "for gap_col in ['PriceGap_Nirma', 'PriceGap_SurfExcel']:\n",
    "    # Create bins\n",
    "    bins = [-np.inf, 0, 5, 10, 15, 20, np.inf]\n",
    "    labels = ['<-0', '0-5', '5-10', '10-15', '15-20', '>20']\n",
    "    df_merged[f'{gap_col}_bin'] = pd.cut(df_merged[gap_col], bins=bins, labels=labels)\n",
    "    \n",
    "    # Average units sold per bin\n",
    "    avg_units = df_merged.groupby(f'{gap_col}_bin')['UnitsSold'].mean()\n",
    "    \n",
    "    # Plot\n",
    "    plt.figure(figsize=(6,4))\n",
    "    avg_units.plot(kind='bar', color='skyblue')\n",
    "    plt.xlabel(f'{gap_col} Bin')\n",
    "    plt.ylabel('Average Units Sold')\n",
    "    plt.title(f'Tide Units Sold vs {gap_col}')\n",
    "    plt.show()\n"
   ]
  },
  {
   "cell_type": "code",
   "execution_count": null,
   "id": "6df16d06-6439-4700-9045-10be0a520697",
   "metadata": {},
   "outputs": [],
   "source": []
  }
 ],
 "metadata": {
  "kernelspec": {
   "display_name": "Python 3 (ipykernel)",
   "language": "python",
   "name": "python3"
  },
  "language_info": {
   "codemirror_mode": {
    "name": "ipython",
    "version": 3
   },
   "file_extension": ".py",
   "mimetype": "text/x-python",
   "name": "python",
   "nbconvert_exporter": "python",
   "pygments_lexer": "ipython3",
   "version": "3.11.11"
  }
 },
 "nbformat": 4,
 "nbformat_minor": 5
}
